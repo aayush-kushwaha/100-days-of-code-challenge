{
 "cells": [
  {
   "cell_type": "markdown",
   "metadata": {},
   "source": [
    "# Display the below output\n",
    "Day 1 - Python Print Function\n",
    "The function is declared like this:\n",
    "print('what to print')"
   ]
  },
  {
   "cell_type": "code",
   "execution_count": 4,
   "metadata": {},
   "outputs": [
    {
     "name": "stdout",
     "output_type": "stream",
     "text": [
      "Day - 1 Python Print Function\n",
      "The function is declared like this:\n",
      "print('what to print')\n"
     ]
    }
   ],
   "source": [
    "    print('Day - 1 Python Print Function')\n",
    "    print('The function is declared like this:')\n",
    "    print(\"print('what to print')\")"
   ]
  }
 ],
 "metadata": {
  "interpreter": {
   "hash": "23fce98ecaf2c3b9a80c43a789d4af23921c8e1e3b3385321451b42223a803f1"
  },
  "kernelspec": {
   "display_name": "Python 3.9.7 ('base')",
   "language": "python",
   "name": "python3"
  },
  "language_info": {
   "codemirror_mode": {
    "name": "ipython",
    "version": 3
   },
   "file_extension": ".py",
   "mimetype": "text/x-python",
   "name": "python",
   "nbconvert_exporter": "python",
   "pygments_lexer": "ipython3",
   "version": "3.9.7"
  },
  "orig_nbformat": 4
 },
 "nbformat": 4,
 "nbformat_minor": 2
}
